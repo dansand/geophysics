{
 "cells": [
  {
   "cell_type": "markdown",
   "metadata": {},
   "source": [
    "#Gravity"
   ]
  },
  {
   "cell_type": "markdown",
   "metadata": {},
   "source": [
    "##Units \n",
    "\n",
    "SI unit for acceleration (unit of the gravitational field $g$) is $ m/s^2 $\n",
    "\n",
    "Typical units for $g$ \n",
    "\n",
    "$$1 Gal = 0.01 m/s^2 $$\n",
    "\n",
    "$$1 GU = 1 \\mu m/s^2 = 0.1 mGal$$\n",
    "\n",
    "The unit of __gravity gradient__ ($\\nabla g$) is the Eotvos\n",
    "\n",
    "$$ 1E = 10^{‐4} mGal/m. $$\n",
    "\n",
    "###key points\n",
    "\n",
    "* Variations in acceleration (g) due to geology are in the order of 1 mGal\n",
    "* Need to measure g better than 1 part in 1 million – and this is just for conventional gravity!"
   ]
  },
  {
   "cell_type": "markdown",
   "metadata": {},
   "source": [
    "## Basic Laws\n",
    "\n",
    "Universal gravitation:\n",
    "\n",
    "$$F = \\frac{Gm_1 m_2}{r^2}$$\n",
    "\n",
    "Gravitational acceleration:\n",
    "\n",
    "$$F = m_1g$$\n",
    "\n",
    "Where $$g = \\frac{Gm_2}{r^2}$$"
   ]
  },
  {
   "cell_type": "markdown",
   "metadata": {},
   "source": [
    "##Concepts \n",
    "\n",
    "###Superposition\n",
    "\n",
    "\n",
    "###Gravity gradiometry\n",
    "\n",
    "In an arbitrary reference frame, $G = \\nabla g$ is the Jacobian matrix of the field $g$, namely the 3×3 matrix:\n",
    "\n",
    "$\n",
    "\\begin{matrix}\n",
    "G_{xx} & G_{xy} & G_{xz} \\\\\n",
    "G_{yx} & G_{yy} & G_{yz} \\\\\n",
    "G_{zx} & G_{zy} & G_{zz} \\\\\n",
    "\\end{matrix}\n",
    "$\n",
    "\n",
    "The notation is as follows, for the x-derivative (usually longitudinal) of the z-component (usually vertical) of $g$\n",
    "\n",
    "$$ G_{xz} = \\frac{\\Delta g_z}{\\Delta x} $$"
   ]
  },
  {
   "cell_type": "markdown",
   "metadata": {},
   "source": [
    "##Typical scales of gravity anomalies / corrections\n",
    "\n",
    "* Tides ~ 0.2 mGal\n",
    "* accelerations in an aircraft ~ 100,000 mGal.\n",
    "* Lat. correction: a latitude of 45°, g would vary by 0.81 mgal/km. To reach an accuracy of 0.01 mgal, we need to know our N‐S position within 12m.\n",
    "* Free air: To obtain an accuracy of 0.01mgal, we need to know station elevation within 3cm"
   ]
  },
  {
   "cell_type": "markdown",
   "metadata": {},
   "source": [
    "##Corrections\n",
    "\n",
    "###Instrument drift\n",
    "\n",
    "###Tides\n",
    "\n",
    "###Latitude correction\n",
    "\n",
    "Accounts for both:\n",
    "* Shape (source‐sensor distance)\n",
    "* Rotation (centrifugal force opposed to\n",
    "gravitational force)\n",
    "\n",
    "###Eötvös correction\n",
    "\n",
    "Angular velocity correction - only for moving aquisition\n",
    "\n",
    "###Free Air correction – Free air gravity\n",
    "\n",
    "Free Air correction will take care of sensor‐source distance.\n",
    "\n",
    "###Bouger correction\n",
    " \n",
    "The Bouguer correction is a first order correction that will simulate a slab of thickness h (height of station above common datum) and of homogeneous density $\\rho$. Bouguer correction will account for added mass due to topography.\n",
    "\n",
    "###Terrain correction\n",
    "A terrain correction is a better alternative to a Bouguer correction.\n",
    "\n",
    "###Gravity stripping\n",
    "\n",
    "Removing know crustal signals. Strictly speaking, this is not really a correction because the signal is geological – so the process is often referred to as gravity stripping\n",
    "\n",
    "* Removal of ice\n",
    "* Isostatic effect of mountain roots"
   ]
  },
  {
   "cell_type": "markdown",
   "metadata": {},
   "source": [
    "##Filtering\n",
    "\n",
    "Filtering is not removing noise – it is just suppressing it."
   ]
  },
  {
   "cell_type": "code",
   "execution_count": null,
   "metadata": {
    "collapsed": true
   },
   "outputs": [],
   "source": []
  }
 ],
 "metadata": {
  "kernelspec": {
   "display_name": "Python 2",
   "language": "python",
   "name": "python2"
  },
  "language_info": {
   "codemirror_mode": {
    "name": "ipython",
    "version": 2
   },
   "file_extension": ".py",
   "mimetype": "text/x-python",
   "name": "python",
   "nbconvert_exporter": "python",
   "pygments_lexer": "ipython2",
   "version": "2.7.10"
  }
 },
 "nbformat": 4,
 "nbformat_minor": 0
}
